{
 "cells": [
  {
   "cell_type": "markdown",
   "metadata": {},
   "source": [
    "### Plotting Hours Worked\n",
    "<ol>Which time of the day is most likely to start </ol>\n",
    "<ol>which day of the week is the most productive? </ol>\n",
    "<ol>Longest/Shortest time worked... which day? </ol>\n",
    "<ol>Average number of hours per day</ol>\n",
    "<ol>How many hours expected for the next 30 days</ol>\n"
   ]
  },
  {
   "cell_type": "code",
   "execution_count": 1,
   "metadata": {},
   "outputs": [],
   "source": [
    "import numpy as np \n",
    "import pandas as pd\n",
    "import matplotlib.pyplot as plt\n",
    "import seaborn as sns\n",
    "import datetime as dt\n",
    "from matplotlib import style\n",
    "import datetime as dt\n",
    "style.use('fivethirtyeight')\n",
    "\n",
    "%matplotlib inline"
   ]
  },
  {
   "cell_type": "code",
   "execution_count": 2,
   "metadata": {},
   "outputs": [],
   "source": [
    "df = pd.read_csv('trackin1.csv')"
   ]
  },
  {
   "cell_type": "code",
   "execution_count": 3,
   "metadata": {},
   "outputs": [
    {
     "data": {
      "text/html": [
       "<div>\n",
       "<style scoped>\n",
       "    .dataframe tbody tr th:only-of-type {\n",
       "        vertical-align: middle;\n",
       "    }\n",
       "\n",
       "    .dataframe tbody tr th {\n",
       "        vertical-align: top;\n",
       "    }\n",
       "\n",
       "    .dataframe thead th {\n",
       "        text-align: right;\n",
       "    }\n",
       "</style>\n",
       "<table border=\"1\" class=\"dataframe\">\n",
       "  <thead>\n",
       "    <tr style=\"text-align: right;\">\n",
       "      <th></th>\n",
       "      <th>Date</th>\n",
       "      <th>Start Time</th>\n",
       "      <th>End Time</th>\n",
       "      <th>Total Time (mins)</th>\n",
       "    </tr>\n",
       "  </thead>\n",
       "  <tbody>\n",
       "    <tr>\n",
       "      <th>0</th>\n",
       "      <td>13/01/2019</td>\n",
       "      <td>20:48:10</td>\n",
       "      <td>22:50:24</td>\n",
       "      <td>122</td>\n",
       "    </tr>\n",
       "    <tr>\n",
       "      <th>1</th>\n",
       "      <td>14/01/2019</td>\n",
       "      <td>22:08:26</td>\n",
       "      <td>23:37:40</td>\n",
       "      <td>89</td>\n",
       "    </tr>\n",
       "    <tr>\n",
       "      <th>2</th>\n",
       "      <td>15/01/2019</td>\n",
       "      <td>23:12:07</td>\n",
       "      <td>00:10:49</td>\n",
       "      <td>58</td>\n",
       "    </tr>\n",
       "    <tr>\n",
       "      <th>3</th>\n",
       "      <td>16/01/2019</td>\n",
       "      <td>23:48:13</td>\n",
       "      <td>00:18:23</td>\n",
       "      <td>30</td>\n",
       "    </tr>\n",
       "    <tr>\n",
       "      <th>4</th>\n",
       "      <td>18/01/2019</td>\n",
       "      <td>00:48:45</td>\n",
       "      <td>01:24:55</td>\n",
       "      <td>36</td>\n",
       "    </tr>\n",
       "  </tbody>\n",
       "</table>\n",
       "</div>"
      ],
      "text/plain": [
       "         Date Start Time  End Time  Total Time (mins)\n",
       "0  13/01/2019   20:48:10  22:50:24                122\n",
       "1  14/01/2019   22:08:26  23:37:40                 89\n",
       "2  15/01/2019   23:12:07  00:10:49                 58\n",
       "3  16/01/2019   23:48:13  00:18:23                 30\n",
       "4  18/01/2019   00:48:45  01:24:55                 36"
      ]
     },
     "execution_count": 3,
     "metadata": {},
     "output_type": "execute_result"
    }
   ],
   "source": [
    "df.head()"
   ]
  },
  {
   "cell_type": "code",
   "execution_count": 4,
   "metadata": {},
   "outputs": [],
   "source": [
    "df['Hours'] = ((df['Total Time (mins)']/60)).round(2)"
   ]
  },
  {
   "cell_type": "code",
   "execution_count": 5,
   "metadata": {
    "scrolled": false
   },
   "outputs": [
    {
     "data": {
      "text/html": [
       "<div>\n",
       "<style scoped>\n",
       "    .dataframe tbody tr th:only-of-type {\n",
       "        vertical-align: middle;\n",
       "    }\n",
       "\n",
       "    .dataframe tbody tr th {\n",
       "        vertical-align: top;\n",
       "    }\n",
       "\n",
       "    .dataframe thead th {\n",
       "        text-align: right;\n",
       "    }\n",
       "</style>\n",
       "<table border=\"1\" class=\"dataframe\">\n",
       "  <thead>\n",
       "    <tr style=\"text-align: right;\">\n",
       "      <th></th>\n",
       "      <th>Date</th>\n",
       "      <th>Start Time</th>\n",
       "      <th>End Time</th>\n",
       "      <th>Total Time (mins)</th>\n",
       "      <th>Hours</th>\n",
       "    </tr>\n",
       "  </thead>\n",
       "  <tbody>\n",
       "    <tr>\n",
       "      <th>0</th>\n",
       "      <td>13/01/2019</td>\n",
       "      <td>20:48:10</td>\n",
       "      <td>22:50:24</td>\n",
       "      <td>122</td>\n",
       "      <td>2.03</td>\n",
       "    </tr>\n",
       "    <tr>\n",
       "      <th>1</th>\n",
       "      <td>14/01/2019</td>\n",
       "      <td>22:08:26</td>\n",
       "      <td>23:37:40</td>\n",
       "      <td>89</td>\n",
       "      <td>1.48</td>\n",
       "    </tr>\n",
       "    <tr>\n",
       "      <th>2</th>\n",
       "      <td>15/01/2019</td>\n",
       "      <td>23:12:07</td>\n",
       "      <td>00:10:49</td>\n",
       "      <td>58</td>\n",
       "      <td>0.97</td>\n",
       "    </tr>\n",
       "    <tr>\n",
       "      <th>3</th>\n",
       "      <td>16/01/2019</td>\n",
       "      <td>23:48:13</td>\n",
       "      <td>00:18:23</td>\n",
       "      <td>30</td>\n",
       "      <td>0.50</td>\n",
       "    </tr>\n",
       "    <tr>\n",
       "      <th>4</th>\n",
       "      <td>18/01/2019</td>\n",
       "      <td>00:48:45</td>\n",
       "      <td>01:24:55</td>\n",
       "      <td>36</td>\n",
       "      <td>0.60</td>\n",
       "    </tr>\n",
       "  </tbody>\n",
       "</table>\n",
       "</div>"
      ],
      "text/plain": [
       "         Date Start Time  End Time  Total Time (mins)  Hours\n",
       "0  13/01/2019   20:48:10  22:50:24                122   2.03\n",
       "1  14/01/2019   22:08:26  23:37:40                 89   1.48\n",
       "2  15/01/2019   23:12:07  00:10:49                 58   0.97\n",
       "3  16/01/2019   23:48:13  00:18:23                 30   0.50\n",
       "4  18/01/2019   00:48:45  01:24:55                 36   0.60"
      ]
     },
     "execution_count": 5,
     "metadata": {},
     "output_type": "execute_result"
    }
   ],
   "source": [
    "df.head()"
   ]
  },
  {
   "cell_type": "code",
   "execution_count": 6,
   "metadata": {},
   "outputs": [],
   "source": [
    "df['Actual_Dates'] = pd.to_datetime(pd.to_datetime(df['Date'],format = \"%d/%m/%Y\"))"
   ]
  },
  {
   "cell_type": "code",
   "execution_count": 7,
   "metadata": {},
   "outputs": [
    {
     "data": {
      "text/plain": [
       "count    117.000000\n",
       "mean       1.741197\n",
       "std        1.455650\n",
       "min        0.100000\n",
       "25%        0.780000\n",
       "50%        1.220000\n",
       "75%        2.170000\n",
       "max        6.850000\n",
       "Name: Hours, dtype: float64"
      ]
     },
     "execution_count": 7,
     "metadata": {},
     "output_type": "execute_result"
    }
   ],
   "source": [
    "#group by day and sum the hours for that day\n",
    "per_day_hours =df.groupby('Actual_Dates').sum()['Hours']\n",
    "# per_day_hours\n",
    "per_day_hours.describe()"
   ]
  },
  {
   "cell_type": "code",
   "execution_count": 8,
   "metadata": {
    "scrolled": true
   },
   "outputs": [
    {
     "name": "stdout",
     "output_type": "stream",
     "text": [
      "Average number of hours worked per day: 1.74 Hours which is 104.47 Minutes per day\n"
     ]
    }
   ],
   "source": [
    "#average number of hours per day \n",
    "print('Average number of hours worked per day: {:0.2f} Hours which is {:.2f} Minutes per day'.\n",
    "      format(per_day_hours.mean(),per_day_hours.mean()*60))"
   ]
  },
  {
   "cell_type": "code",
   "execution_count": 9,
   "metadata": {},
   "outputs": [
    {
     "name": "stdout",
     "output_type": "stream",
     "text": [
      "Total Number of hours to today (2019-08-31) is: 203.72 H. \n",
      "\n",
      "Total Minutes: 12221 M\n"
     ]
    }
   ],
   "source": [
    "total_hours = df['Hours'].sum()\n",
    "\n",
    "print('Total Number of hours to today ({}) is: {:0.2f} H. \\n\\nTotal Minutes: {} M'.\n",
    "      format(df['Actual_Dates'].iloc[-1].date(),total_hours,\n",
    "             df['Total Time (mins)'].sum()))"
   ]
  },
  {
   "cell_type": "code",
   "execution_count": 10,
   "metadata": {},
   "outputs": [
    {
     "data": {
      "text/plain": [
       "0    20:48:10\n",
       "1    22:08:26\n",
       "2    23:12:07\n",
       "3    23:48:13\n",
       "4    00:48:45\n",
       "Name: Start Time, dtype: object"
      ]
     },
     "execution_count": 10,
     "metadata": {},
     "output_type": "execute_result"
    }
   ],
   "source": [
    "df['Start Time'].head()"
   ]
  },
  {
   "cell_type": "code",
   "execution_count": 11,
   "metadata": {},
   "outputs": [],
   "source": [
    "starting_hour = df['Start Time'].apply(lambda time: dt.datetime.strptime(time,'%H:%M:%S').hour)"
   ]
  },
  {
   "cell_type": "code",
   "execution_count": 12,
   "metadata": {},
   "outputs": [
    {
     "name": "stdout",
     "output_type": "stream",
     "text": [
      "Top hours to start my coding sessions: \n",
      "Time 23:00 \t Number of Occurances 37\n",
      "Time 21:00 \t Number of Occurances 23\n",
      "Time 22:00 \t Number of Occurances 23\n"
     ]
    }
   ],
   "source": [
    "top_hours = starting_hour.value_counts()[:3]\n",
    "hour_occur = [i for i in zip(top_hours.index,top_hours.values)]\n",
    "\n",
    "print('Top hours to start my coding sessions: ')\n",
    "for hour,occur in hour_occur:\n",
    "    print ('Time {}:00 \\t Number of Occurances {}'.format(hour,occur))"
   ]
  },
  {
   "cell_type": "code",
   "execution_count": 13,
   "metadata": {},
   "outputs": [
    {
     "name": "stdout",
     "output_type": "stream",
     "text": [
      "Date with Maximum Hours\n"
     ]
    },
    {
     "data": {
      "text/plain": [
       "Date                          31/03/2019\n",
       "Start Time                      16:43:01\n",
       "End Time                        22:28:00\n",
       "Total Time (mins)                    344\n",
       "Hours                               5.73\n",
       "Actual_Dates         2019-03-31 00:00:00\n",
       "Name: 87, dtype: object"
      ]
     },
     "execution_count": 13,
     "metadata": {},
     "output_type": "execute_result"
    }
   ],
   "source": [
    "day_most_worked = df[df['Total Time (mins)'] == df['Total Time (mins)'].max()]\n",
    "#day_most_worked\n",
    "# or can be calculated by:\n",
    "print(\"Date with Maximum Hours\")\n",
    "df.iloc[df['Total Time (mins)'].idxmax()]"
   ]
  },
  {
   "cell_type": "code",
   "execution_count": 14,
   "metadata": {},
   "outputs": [
    {
     "name": "stdout",
     "output_type": "stream",
     "text": [
      "Date with Minimum hours: \n"
     ]
    },
    {
     "data": {
      "text/plain": [
       "Date                          01/07/2019\n",
       "Start Time                      21:05:51\n",
       "End Time                        21:12:25\n",
       "Total Time (mins)                      6\n",
       "Hours                                0.1\n",
       "Actual_Dates         2019-07-01 00:00:00\n",
       "Name: 132, dtype: object"
      ]
     },
     "execution_count": 14,
     "metadata": {},
     "output_type": "execute_result"
    }
   ],
   "source": [
    "print(\"Date with Minimum hours: \")\n",
    "df.iloc[df['Total Time (mins)'].idxmin()]"
   ]
  },
  {
   "cell_type": "code",
   "execution_count": 15,
   "metadata": {},
   "outputs": [],
   "source": [
    "hours_per_day = df.groupby('Actual_Dates').sum()['Hours']"
   ]
  },
  {
   "cell_type": "code",
   "execution_count": 16,
   "metadata": {},
   "outputs": [
    {
     "data": {
      "text/plain": [
       "Actual_Dates\n",
       "2019-04-22    6.85\n",
       "2019-03-31    6.13\n",
       "2019-06-16    5.90\n",
       "2019-06-15    5.69\n",
       "2019-03-08    5.65\n",
       "Name: Hours, dtype: float64"
      ]
     },
     "execution_count": 16,
     "metadata": {},
     "output_type": "execute_result"
    }
   ],
   "source": [
    "hours_per_day.sort_values(ascending=False).head()"
   ]
  },
  {
   "cell_type": "code",
   "execution_count": 17,
   "metadata": {},
   "outputs": [
    {
     "data": {
      "text/plain": [
       "Timestamp('2019-08-31 00:00:00')"
      ]
     },
     "execution_count": 17,
     "metadata": {},
     "output_type": "execute_result"
    }
   ],
   "source": [
    "df['Actual_Dates'].max()"
   ]
  },
  {
   "cell_type": "code",
   "execution_count": 18,
   "metadata": {},
   "outputs": [
    {
     "name": "stdout",
     "output_type": "stream",
     "text": [
      "Total Number of days worked so far is 230\n",
      "Averaging 75.92 Minutes/day\n"
     ]
    }
   ],
   "source": [
    "## Total number of days works\n",
    "days_since_start = df['Actual_Dates'].max()-df['Actual_Dates'].min()\n",
    "\n",
    "print('Total Number of days worked so far is {0}\\nAveraging {1:.2f} Minutes/day'.\n",
    "      format(days_since_start.days,df['Hours'].mean()*60))"
   ]
  },
  {
   "cell_type": "code",
   "execution_count": 19,
   "metadata": {},
   "outputs": [
    {
     "data": {
      "text/html": [
       "<div>\n",
       "<style scoped>\n",
       "    .dataframe tbody tr th:only-of-type {\n",
       "        vertical-align: middle;\n",
       "    }\n",
       "\n",
       "    .dataframe tbody tr th {\n",
       "        vertical-align: top;\n",
       "    }\n",
       "\n",
       "    .dataframe thead th {\n",
       "        text-align: right;\n",
       "    }\n",
       "</style>\n",
       "<table border=\"1\" class=\"dataframe\">\n",
       "  <thead>\n",
       "    <tr style=\"text-align: right;\">\n",
       "      <th></th>\n",
       "      <th>Total Time (mins)</th>\n",
       "      <th>Hours</th>\n",
       "    </tr>\n",
       "  </thead>\n",
       "  <tbody>\n",
       "    <tr>\n",
       "      <th>count</th>\n",
       "      <td>161.000000</td>\n",
       "      <td>161.000000</td>\n",
       "    </tr>\n",
       "    <tr>\n",
       "      <th>mean</th>\n",
       "      <td>75.906832</td>\n",
       "      <td>1.265342</td>\n",
       "    </tr>\n",
       "    <tr>\n",
       "      <th>std</th>\n",
       "      <td>47.937824</td>\n",
       "      <td>0.799074</td>\n",
       "    </tr>\n",
       "    <tr>\n",
       "      <th>min</th>\n",
       "      <td>6.000000</td>\n",
       "      <td>0.100000</td>\n",
       "    </tr>\n",
       "    <tr>\n",
       "      <th>25%</th>\n",
       "      <td>38.000000</td>\n",
       "      <td>0.630000</td>\n",
       "    </tr>\n",
       "    <tr>\n",
       "      <th>50%</th>\n",
       "      <td>69.000000</td>\n",
       "      <td>1.150000</td>\n",
       "    </tr>\n",
       "    <tr>\n",
       "      <th>75%</th>\n",
       "      <td>95.000000</td>\n",
       "      <td>1.580000</td>\n",
       "    </tr>\n",
       "    <tr>\n",
       "      <th>max</th>\n",
       "      <td>344.000000</td>\n",
       "      <td>5.730000</td>\n",
       "    </tr>\n",
       "  </tbody>\n",
       "</table>\n",
       "</div>"
      ],
      "text/plain": [
       "       Total Time (mins)       Hours\n",
       "count         161.000000  161.000000\n",
       "mean           75.906832    1.265342\n",
       "std            47.937824    0.799074\n",
       "min             6.000000    0.100000\n",
       "25%            38.000000    0.630000\n",
       "50%            69.000000    1.150000\n",
       "75%            95.000000    1.580000\n",
       "max           344.000000    5.730000"
      ]
     },
     "execution_count": 19,
     "metadata": {},
     "output_type": "execute_result"
    }
   ],
   "source": [
    "df.describe()"
   ]
  },
  {
   "cell_type": "code",
   "execution_count": 20,
   "metadata": {},
   "outputs": [],
   "source": [
    "#Grouped into time series\n",
    "df_w_dates = df.groupby('Actual_Dates').sum()"
   ]
  },
  {
   "cell_type": "code",
   "execution_count": 21,
   "metadata": {},
   "outputs": [
    {
     "data": {
      "text/html": [
       "<div>\n",
       "<style scoped>\n",
       "    .dataframe tbody tr th:only-of-type {\n",
       "        vertical-align: middle;\n",
       "    }\n",
       "\n",
       "    .dataframe tbody tr th {\n",
       "        vertical-align: top;\n",
       "    }\n",
       "\n",
       "    .dataframe thead th {\n",
       "        text-align: right;\n",
       "    }\n",
       "</style>\n",
       "<table border=\"1\" class=\"dataframe\">\n",
       "  <thead>\n",
       "    <tr style=\"text-align: right;\">\n",
       "      <th></th>\n",
       "      <th>Total Time (mins)</th>\n",
       "      <th>Hours</th>\n",
       "    </tr>\n",
       "    <tr>\n",
       "      <th>Actual_Dates</th>\n",
       "      <th></th>\n",
       "      <th></th>\n",
       "    </tr>\n",
       "  </thead>\n",
       "  <tbody>\n",
       "    <tr>\n",
       "      <th>2019-01-13</th>\n",
       "      <td>122</td>\n",
       "      <td>2.03</td>\n",
       "    </tr>\n",
       "    <tr>\n",
       "      <th>2019-01-14</th>\n",
       "      <td>89</td>\n",
       "      <td>1.48</td>\n",
       "    </tr>\n",
       "    <tr>\n",
       "      <th>2019-01-15</th>\n",
       "      <td>58</td>\n",
       "      <td>0.97</td>\n",
       "    </tr>\n",
       "    <tr>\n",
       "      <th>2019-01-16</th>\n",
       "      <td>30</td>\n",
       "      <td>0.50</td>\n",
       "    </tr>\n",
       "    <tr>\n",
       "      <th>2019-01-18</th>\n",
       "      <td>280</td>\n",
       "      <td>4.66</td>\n",
       "    </tr>\n",
       "  </tbody>\n",
       "</table>\n",
       "</div>"
      ],
      "text/plain": [
       "              Total Time (mins)  Hours\n",
       "Actual_Dates                          \n",
       "2019-01-13                  122   2.03\n",
       "2019-01-14                   89   1.48\n",
       "2019-01-15                   58   0.97\n",
       "2019-01-16                   30   0.50\n",
       "2019-01-18                  280   4.66"
      ]
     },
     "execution_count": 21,
     "metadata": {},
     "output_type": "execute_result"
    }
   ],
   "source": [
    "df_w_dates.head()"
   ]
  },
  {
   "cell_type": "code",
   "execution_count": 22,
   "metadata": {},
   "outputs": [],
   "source": [
    "# to enable plotting by week\n",
    "df['Week_Number'] = df['Actual_Dates'].dt.week"
   ]
  },
  {
   "cell_type": "code",
   "execution_count": 23,
   "metadata": {},
   "outputs": [
    {
     "data": {
      "text/plain": [
       "0    1\n",
       "1    1\n",
       "2    1\n",
       "3    1\n",
       "4    1\n",
       "Name: Month, dtype: int64"
      ]
     },
     "execution_count": 23,
     "metadata": {},
     "output_type": "execute_result"
    }
   ],
   "source": [
    "df['Month'] = df['Actual_Dates'].dt.month\n",
    "df['Month'].head()"
   ]
  },
  {
   "cell_type": "code",
   "execution_count": 24,
   "metadata": {
    "scrolled": true
   },
   "outputs": [
    {
     "data": {
      "text/plain": [
       "Week_Number\n",
       "2     2.03\n",
       "3    12.20\n",
       "4     4.82\n",
       "5     8.24\n",
       "6    11.37\n",
       "Name: Hours, dtype: float64"
      ]
     },
     "execution_count": 24,
     "metadata": {},
     "output_type": "execute_result"
    }
   ],
   "source": [
    "weekly_numbers = df.groupby('Week_Number').sum()['Hours']\n",
    "weekly_numbers.head()"
   ]
  },
  {
   "cell_type": "code",
   "execution_count": 25,
   "metadata": {},
   "outputs": [],
   "source": [
    "labels_y = ['Week'+str(i) for i in weekly_numbers.index]"
   ]
  },
  {
   "cell_type": "code",
   "execution_count": 26,
   "metadata": {},
   "outputs": [
    {
     "data": {
      "image/png": "[encoded data removed]",
      "text/plain": [
       "<Figure size 864x648 with 1 Axes>"
      ]
     },
     "metadata": {
      "needs_background": "light"
     },
     "output_type": "display_data"
    }
   ],
   "source": [
    "#Another method\n",
    "fix, ax = plt.subplots(figsize=(12,9))\n",
    "#fig.subplots_adjust(left=0.115, right=0.88)\n",
    "labels = ['Week'+str(i) for i in weekly_numbers.index]\n",
    "pos = weekly_numbers.index\n",
    "ax.grid(False)\n",
    "\n",
    "rects=ax.barh(pos,weekly_numbers,tick_label=labels)\n",
    "\n",
    "ax.set_title('2019 Weekly Coding Hours ')\n",
    "ax.xaxis.grid(True, linestyle='--', which='major',color='grey', alpha=.25)\n",
    "x_label = ax.text(.5, -.07, 'Hours',\n",
    "                        horizontalalignment='center', size='large',transform=ax.transAxes)\n",
    "plt.yticks()\n",
    "#setting labels on bars\n",
    "for rect in rects:\n",
    "    height = round(rect.get_width(),2)\n",
    "    ax.text(height+0.1,rect.get_y()+0.3,height,ha='left')"
   ]
  },
  {
   "cell_type": "code",
   "execution_count": 27,
   "metadata": {},
   "outputs": [
    {
     "data": {
      "text/plain": [
       "Month\n",
       "1    22.93\n",
       "2    33.96\n",
       "3    48.68\n",
       "4    18.55\n",
       "5     2.68\n",
       "6    42.90\n",
       "7    19.42\n",
       "8    14.60\n",
       "Name: Hours, dtype: float64"
      ]
     },
     "execution_count": 27,
     "metadata": {},
     "output_type": "execute_result"
    }
   ],
   "source": [
    "#Monthly Numbers\n",
    "monthly_numbers = df.groupby('Month').sum()['Hours'].sort_index()\n",
    "monthly_numbers"
   ]
  },
  {
   "cell_type": "code",
   "execution_count": 28,
   "metadata": {},
   "outputs": [],
   "source": [
    "months_map = {1:'January',\n",
    "             2:'February',\n",
    "             3:'March',\n",
    "             4:'April',\n",
    "             5:'May',\n",
    "             6:'June',\n",
    "             7:'July',\n",
    "             8:'August',\n",
    "             9:'September',\n",
    "             10:'October',\n",
    "             11:'November',\n",
    "             12:'December'}"
   ]
  },
  {
   "cell_type": "code",
   "execution_count": 29,
   "metadata": {},
   "outputs": [],
   "source": [
    "total_hours = df_w_dates['Hours'].sum()"
   ]
  },
  {
   "cell_type": "code",
   "execution_count": 30,
   "metadata": {},
   "outputs": [
    {
     "data": {
      "image/png": "[encoded data removed]",
      "text/plain": [
       "<Figure size 864x648 with 1 Axes>"
      ]
     },
     "metadata": {},
     "output_type": "display_data"
    }
   ],
   "source": [
    "style.use('ggplot')\n",
    "#Another method\n",
    "fix, ax = plt.subplots(figsize=(12,9))\n",
    "#fig.subplots_adjust(left=0.115, right=0.88)\n",
    "labels = [months_map[i] for i in monthly_numbers.index]\n",
    "pos = monthly_numbers.index\n",
    "ax.grid(False)\n",
    "\n",
    "rects=ax.barh(pos,monthly_numbers,tick_label=labels)\n",
    "\n",
    "ax.set_title(f'2019 Monthly Coding Hours - Total: {total_hours} Hours')\n",
    "ax.xaxis.grid(True, linestyle='--', which='major', alpha=.5)\n",
    "x_label = ax.text(.5, -.07, 'Hours',\n",
    "                        horizontalalignment='center', size='large',transform=ax.transAxes)\n",
    "plt.yticks(rotation=45)\n",
    "#setting labels on bars\n",
    "for rect in rects:\n",
    "    height = round(rect.get_width(),2)\n",
    "    ax.text(height-1,rect.get_y()+0.3,height,ha='left',horizontalalignment='center',color='white')"
   ]
  },
  {
   "cell_type": "code",
   "execution_count": null,
   "metadata": {},
   "outputs": [],
   "source": []
  },
  {
   "cell_type": "code",
   "execution_count": null,
   "metadata": {},
   "outputs": [],
   "source": []
  },
  {
   "cell_type": "code",
   "execution_count": null,
   "metadata": {},
   "outputs": [],
   "source": []
  },
  {
   "cell_type": "code",
   "execution_count": null,
   "metadata": {},
   "outputs": [],
   "source": []
  }
 ],
 "metadata": {
  "kernelspec": {
   "display_name": "Python 3",
   "language": "python",
   "name": "python3"
  },
  "language_info": {
   "codemirror_mode": {
    "name": "ipython",
    "version": 3
   },
   "file_extension": ".py",
   "mimetype": "text/x-python",
   "name": "python",
   "nbconvert_exporter": "python",
   "pygments_lexer": "ipython3",
   "version": "3.7.3"
  }
 },
 "nbformat": 4,
 "nbformat_minor": 2
}
